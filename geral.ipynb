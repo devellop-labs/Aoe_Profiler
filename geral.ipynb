{
  "nbformat": 4,
  "nbformat_minor": 0,
  "metadata": {
    "colab": {
      "provenance": [],
      "authorship_tag": "ABX9TyMZRIQcnLD9WteRmiZJlo1J",
      "include_colab_link": true
    },
    "kernelspec": {
      "name": "python3",
      "display_name": "Python 3"
    },
    "language_info": {
      "name": "python"
    }
  },
  "cells": [
    {
      "cell_type": "markdown",
      "metadata": {
        "id": "view-in-github",
        "colab_type": "text"
      },
      "source": [
        "<a href=\"https://colab.research.google.com/github/devellop-labs/Aoe_Profiler/blob/master/geral.ipynb\" target=\"_parent\"><img src=\"https://colab.research.google.com/assets/colab-badge.svg\" alt=\"Open In Colab\"/></a>"
      ]
    },
    {
      "cell_type": "code",
      "execution_count": null,
      "metadata": {
        "id": "bgLwLN4pk-p-"
      },
      "outputs": [],
      "source": [
        "# importa biblioteca matplotlib (is a comprehensive library for creating static, animated, and interactive visualizations)\n",
        "import matplotlib.pyplot as plt\n",
        "\n",
        "# importa biblioteca numpy (is a popular toolkit for scientific computing)\n",
        "import numpy as np\n",
        "\n",
        "# importa biblioteca seaborn (is a data visualization library based on matplotlib)\n",
        "import seaborn as sns\n",
        "\n",
        "# importa a biblioteca datetime (módulo datetime fornece as classes para manipulação de datas e horas)\n",
        "from datetime import datetime as dt"
      ]
    }
  ]
}